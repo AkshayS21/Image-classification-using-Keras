{
 "cells": [
  {
   "cell_type": "code",
   "execution_count": 18,
   "metadata": {},
   "outputs": [],
   "source": [
    "import numpy as np\n",
    "from keras import layers\n",
    "from keras.layers import Input, Dense, Activation, ZeroPadding2D, BatchNormalization, Flatten, Conv2D\n",
    "from keras.layers import AveragePooling2D, MaxPooling2D, Dropout, GlobalMaxPooling2D, GlobalAveragePooling2D\n",
    "from keras.models import Model\n",
    "from keras.preprocessing import image\n",
    "from keras.utils import layer_utils\n",
    "from keras.utils.data_utils import get_file\n",
    "from keras.applications.imagenet_utils import preprocess_input\n",
    "\n",
    "from IPython.display import SVG\n",
    "from keras.utils.vis_utils import model_to_dot\n",
    "from keras.utils import plot_model\n",
    "from kt_utils import *\n",
    "from keras.callbacks import EarlyStopping, ModelCheckpoint\n",
    "import keras.backend as K\n",
    "K.set_image_data_format('channels_last')\n",
    "import matplotlib.pyplot as plt\n",
    "from matplotlib.pyplot import imshow\n",
    "\n",
    "%matplotlib inline"
   ]
  },
  {
   "cell_type": "code",
   "execution_count": 3,
   "metadata": {},
   "outputs": [
    {
     "name": "stdout",
     "output_type": "stream",
     "text": [
      "number of training examples = 600\n",
      "number of test examples = 150\n",
      "X_train shape: (600, 64, 64, 3)\n",
      "Y_train shape: (600, 1)\n",
      "X_test shape: (150, 64, 64, 3)\n",
      "Y_test shape: (150, 1)\n"
     ]
    }
   ],
   "source": [
    "X_train_orig, Y_train_orig, X_test_orig, Y_test_orig, classes = load_dataset()\n",
    "\n",
    "# Normalize image vectors\n",
    "X_train = X_train_orig/255.\n",
    "X_test = X_test_orig/255.\n",
    "#a = X_train_orig.shape[0]\n",
    "#print (a)\n",
    "#a = X_train_orig.max()\n",
    "#print(a)\n",
    "# Reshape\n",
    "Y_train = Y_train_orig.T\n",
    "Y_test = Y_test_orig.T\n",
    "\n",
    "print (\"number of training examples = \" + str(X_train.shape[0]))\n",
    "print (\"number of test examples = \" + str(X_test.shape[0]))\n",
    "print (\"X_train shape: \" + str(X_train.shape))\n",
    "print (\"Y_train shape: \" + str(Y_train.shape))\n",
    "print (\"X_test shape: \" + str(X_test.shape))\n",
    "print (\"Y_test shape: \" + str(Y_test.shape))"
   ]
  },
  {
   "cell_type": "code",
   "execution_count": 4,
   "metadata": {},
   "outputs": [],
   "source": [
    "\n",
    "def HappyModel(input_shape):\n",
    "    \"\"\"\n",
    "    Implementation of the HappyModel. A model that classifies between a happy person or a sad person.\n",
    "    \n",
    "    Arguments:\n",
    "    input_shape -- shape of the images of the dataset\n",
    "\n",
    "    Returns:\n",
    "    model -- a Model() instance in Keras\n",
    "    \"\"\"\n",
    "    \n",
    "    \n",
    "    \n",
    "    \n",
    "    X_input = Input(input_shape)\n",
    "    \n",
    "    X = ZeroPadding2D((3,3))(X_input)\n",
    "    \n",
    "    X = Conv2D(32, (7,7), strides=(1, 1), padding='valid')(X)\n",
    "    X = BatchNormalization(axis=3)(X)\n",
    "    X = Activation('relu')(X)\n",
    "    \n",
    "    X = MaxPooling2D(pool_size=(2, 2), strides=None, padding='valid', data_format=None)(X)\n",
    "    \n",
    "    X = Flatten()(X)\n",
    "    \n",
    "    X = Dense(1, activation = 'sigmoid')(X)\n",
    "   \n",
    "    \n",
    "    model = Model(inputs = X_input, outputs = X, name = 'HappyModel')\n",
    "    \n",
    "    \n",
    "    \n",
    "    return model"
   ]
  },
  {
   "cell_type": "code",
   "execution_count": 28,
   "metadata": {},
   "outputs": [],
   "source": [
    "###  Train model on a dataset with X_train as images and Y_train as labels. Happy face is  labelled 1 and not happy as 0\n",
    "happyModel_A1= HappyModel(X_train.shape[1:])\n"
   ]
  },
  {
   "cell_type": "code",
   "execution_count": 29,
   "metadata": {},
   "outputs": [],
   "source": [
    "happyModel_A1.compile(optimizer = \"Adam\", loss = \"binary_crossentropy\", metrics = [\"accuracy\"])\n"
   ]
  },
  {
   "cell_type": "code",
   "execution_count": 30,
   "metadata": {},
   "outputs": [
    {
     "name": "stdout",
     "output_type": "stream",
     "text": [
      "Epoch 1/20\n",
      "600/600 [==============================] - 26s 44ms/step - loss: 0.9294 - acc: 0.7333\n",
      "Epoch 2/20\n",
      "600/600 [==============================] - 27s 44ms/step - loss: 0.3577 - acc: 0.8667\n",
      "Epoch 3/20\n",
      "600/600 [==============================] - 26s 44ms/step - loss: 0.2768 - acc: 0.9017\n",
      "Epoch 4/20\n",
      "600/600 [==============================] - 26s 43ms/step - loss: 0.1424 - acc: 0.9517\n",
      "Epoch 5/20\n",
      "600/600 [==============================] - 26s 43ms/step - loss: 0.1609 - acc: 0.9383\n",
      "Epoch 6/20\n",
      "600/600 [==============================] - 26s 43ms/step - loss: 0.1037 - acc: 0.9683\n",
      "Epoch 7/20\n",
      "600/600 [==============================] - 26s 44ms/step - loss: 0.1897 - acc: 0.9333\n",
      "Epoch 8/20\n",
      "600/600 [==============================] - 26s 44ms/step - loss: 0.1882 - acc: 0.9283\n",
      "Epoch 9/20\n",
      "600/600 [==============================] - 26s 44ms/step - loss: 0.1076 - acc: 0.9683\n",
      "Epoch 10/20\n",
      "600/600 [==============================] - 27s 45ms/step - loss: 0.1734 - acc: 0.9383\n",
      "Epoch 11/20\n",
      "600/600 [==============================] - 28s 46ms/step - loss: 0.1989 - acc: 0.9383\n",
      "Epoch 12/20\n",
      "600/600 [==============================] - 26s 43ms/step - loss: 0.0792 - acc: 0.9733\n",
      "Epoch 13/20\n",
      "600/600 [==============================] - 26s 43ms/step - loss: 0.0511 - acc: 0.9867\n",
      "Epoch 14/20\n",
      "600/600 [==============================] - 26s 44ms/step - loss: 0.0583 - acc: 0.9817\n",
      "Epoch 15/20\n",
      "600/600 [==============================] - 27s 44ms/step - loss: 0.1740 - acc: 0.9467\n",
      "Epoch 16/20\n",
      "600/600 [==============================] - 26s 44ms/step - loss: 0.1063 - acc: 0.9767\n",
      "Epoch 17/20\n",
      "600/600 [==============================] - 26s 43ms/step - loss: 0.0476 - acc: 0.9867\n",
      "Epoch 18/20\n",
      "600/600 [==============================] - 26s 44ms/step - loss: 0.0716 - acc: 0.9700\n",
      "Epoch 19/20\n",
      "600/600 [==============================] - 26s 44ms/step - loss: 0.0873 - acc: 0.9717\n",
      "Epoch 20/20\n",
      "600/600 [==============================] - 26s 44ms/step - loss: 0.0818 - acc: 0.9783\n"
     ]
    },
    {
     "data": {
      "text/plain": [
       "<keras.callbacks.History at 0x1fcf6d94e10>"
      ]
     },
     "execution_count": 30,
     "metadata": {},
     "output_type": "execute_result"
    }
   ],
   "source": [
    "\n",
    "happyModel_A1.fit(X_train, Y_train , batch_size=16, epochs= 20) "
   ]
  },
  {
   "cell_type": "code",
   "execution_count": 31,
   "metadata": {
    "scrolled": true
   },
   "outputs": [
    {
     "name": "stdout",
     "output_type": "stream",
     "text": [
      "150/150 [==============================] - 4s 27ms/step\n",
      "\n",
      "Loss = 0.13493537604808808\n",
      "Test Accuracy = 0.9600000039736429\n"
     ]
    }
   ],
   "source": [
    "preds = happyModel_A1.evaluate(x = X_test, y = Y_test)\n",
    "print()\n",
    "print (\"Loss = \" + str(preds[0]))\n",
    "print (\"Test Accuracy = \" + str(preds[1]))"
   ]
  },
  {
   "cell_type": "code",
   "execution_count": 32,
   "metadata": {},
   "outputs": [
    {
     "name": "stdout",
     "output_type": "stream",
     "text": [
      "_________________________________________________________________\n",
      "Layer (type)                 Output Shape              Param #   \n",
      "=================================================================\n",
      "input_9 (InputLayer)         (None, 64, 64, 3)         0         \n",
      "_________________________________________________________________\n",
      "zero_padding2d_9 (ZeroPaddin (None, 70, 70, 3)         0         \n",
      "_________________________________________________________________\n",
      "conv2d_9 (Conv2D)            (None, 64, 64, 32)        4736      \n",
      "_________________________________________________________________\n",
      "batch_normalization_9 (Batch (None, 64, 64, 32)        128       \n",
      "_________________________________________________________________\n",
      "activation_9 (Activation)    (None, 64, 64, 32)        0         \n",
      "_________________________________________________________________\n",
      "max_pooling2d_9 (MaxPooling2 (None, 32, 32, 32)        0         \n",
      "_________________________________________________________________\n",
      "flatten_9 (Flatten)          (None, 32768)             0         \n",
      "_________________________________________________________________\n",
      "dense_9 (Dense)              (None, 1)                 32769     \n",
      "=================================================================\n",
      "Total params: 37,633\n",
      "Trainable params: 37,569\n",
      "Non-trainable params: 64\n",
      "_________________________________________________________________\n"
     ]
    }
   ],
   "source": [
    "happyModel_A1.summary()"
   ]
  },
  {
   "cell_type": "code",
   "execution_count": null,
   "metadata": {
    "collapsed": true
   },
   "outputs": [],
   "source": []
  }
 ],
 "metadata": {
  "kernelspec": {
   "display_name": "Python 3",
   "language": "python",
   "name": "python3"
  },
  "language_info": {
   "codemirror_mode": {
    "name": "ipython",
    "version": 3
   },
   "file_extension": ".py",
   "mimetype": "text/x-python",
   "name": "python",
   "nbconvert_exporter": "python",
   "pygments_lexer": "ipython3",
   "version": "3.6.5"
  }
 },
 "nbformat": 4,
 "nbformat_minor": 2
}
